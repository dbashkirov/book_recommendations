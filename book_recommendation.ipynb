{
  "nbformat": 4,
  "nbformat_minor": 0,
  "metadata": {
    "colab": {
      "name": "book recomendation.ipynb",
      "provenance": [],
      "collapsed_sections": [],
      "machine_shape": "hm"
    },
    "kernelspec": {
      "name": "python3",
      "display_name": "Python 3"
    },
    "accelerator": "GPU",
    "widgets": {
      "application/vnd.jupyter.widget-state+json": {
        "1044f39cac494338b376155736028e47": {
          "model_module": "@jupyter-widgets/controls",
          "model_name": "HBoxModel",
          "state": {
            "_view_name": "HBoxView",
            "_dom_classes": [],
            "_model_name": "HBoxModel",
            "_view_module": "@jupyter-widgets/controls",
            "_model_module_version": "1.5.0",
            "_view_count": null,
            "_view_module_version": "1.5.0",
            "box_style": "",
            "layout": "IPY_MODEL_835f18129d5e4e74ac6f3850b5d2af44",
            "_model_module": "@jupyter-widgets/controls",
            "children": [
              "IPY_MODEL_6219175db712456ea40bd78356bec8d1",
              "IPY_MODEL_e5939dadb76c4af0b07d06d08f83f313"
            ]
          }
        },
        "835f18129d5e4e74ac6f3850b5d2af44": {
          "model_module": "@jupyter-widgets/base",
          "model_name": "LayoutModel",
          "state": {
            "_view_name": "LayoutView",
            "grid_template_rows": null,
            "right": null,
            "justify_content": null,
            "_view_module": "@jupyter-widgets/base",
            "overflow": null,
            "_model_module_version": "1.2.0",
            "_view_count": null,
            "flex_flow": null,
            "width": null,
            "min_width": null,
            "border": null,
            "align_items": null,
            "bottom": null,
            "_model_module": "@jupyter-widgets/base",
            "top": null,
            "grid_column": null,
            "overflow_y": null,
            "overflow_x": null,
            "grid_auto_flow": null,
            "grid_area": null,
            "grid_template_columns": null,
            "flex": null,
            "_model_name": "LayoutModel",
            "justify_items": null,
            "grid_row": null,
            "max_height": null,
            "align_content": null,
            "visibility": null,
            "align_self": null,
            "height": null,
            "min_height": null,
            "padding": null,
            "grid_auto_rows": null,
            "grid_gap": null,
            "max_width": null,
            "order": null,
            "_view_module_version": "1.2.0",
            "grid_template_areas": null,
            "object_position": null,
            "object_fit": null,
            "grid_auto_columns": null,
            "margin": null,
            "display": null,
            "left": null
          }
        },
        "6219175db712456ea40bd78356bec8d1": {
          "model_module": "@jupyter-widgets/controls",
          "model_name": "IntProgressModel",
          "state": {
            "_view_name": "ProgressView",
            "style": "IPY_MODEL_6a176d77be364cc48f0501818a070bfa",
            "_dom_classes": [],
            "description": "100%",
            "_model_name": "IntProgressModel",
            "bar_style": "success",
            "max": 33303,
            "_view_module": "@jupyter-widgets/controls",
            "_model_module_version": "1.5.0",
            "value": 33303,
            "_view_count": null,
            "_view_module_version": "1.5.0",
            "orientation": "horizontal",
            "min": 0,
            "description_tooltip": null,
            "_model_module": "@jupyter-widgets/controls",
            "layout": "IPY_MODEL_245ada365c8f4640a0d6f4889d2eabeb"
          }
        },
        "e5939dadb76c4af0b07d06d08f83f313": {
          "model_module": "@jupyter-widgets/controls",
          "model_name": "HTMLModel",
          "state": {
            "_view_name": "HTMLView",
            "style": "IPY_MODEL_70548098982d4fbca2305dcfe95e8b67",
            "_dom_classes": [],
            "description": "",
            "_model_name": "HTMLModel",
            "placeholder": "​",
            "_view_module": "@jupyter-widgets/controls",
            "_model_module_version": "1.5.0",
            "value": " 33303/33303 [00:00&lt;00:00, 203043.71it/s]",
            "_view_count": null,
            "_view_module_version": "1.5.0",
            "description_tooltip": null,
            "_model_module": "@jupyter-widgets/controls",
            "layout": "IPY_MODEL_00c2c1587a3f49178961450da72dfd28"
          }
        },
        "6a176d77be364cc48f0501818a070bfa": {
          "model_module": "@jupyter-widgets/controls",
          "model_name": "ProgressStyleModel",
          "state": {
            "_view_name": "StyleView",
            "_model_name": "ProgressStyleModel",
            "description_width": "initial",
            "_view_module": "@jupyter-widgets/base",
            "_model_module_version": "1.5.0",
            "_view_count": null,
            "_view_module_version": "1.2.0",
            "bar_color": null,
            "_model_module": "@jupyter-widgets/controls"
          }
        },
        "245ada365c8f4640a0d6f4889d2eabeb": {
          "model_module": "@jupyter-widgets/base",
          "model_name": "LayoutModel",
          "state": {
            "_view_name": "LayoutView",
            "grid_template_rows": null,
            "right": null,
            "justify_content": null,
            "_view_module": "@jupyter-widgets/base",
            "overflow": null,
            "_model_module_version": "1.2.0",
            "_view_count": null,
            "flex_flow": null,
            "width": null,
            "min_width": null,
            "border": null,
            "align_items": null,
            "bottom": null,
            "_model_module": "@jupyter-widgets/base",
            "top": null,
            "grid_column": null,
            "overflow_y": null,
            "overflow_x": null,
            "grid_auto_flow": null,
            "grid_area": null,
            "grid_template_columns": null,
            "flex": null,
            "_model_name": "LayoutModel",
            "justify_items": null,
            "grid_row": null,
            "max_height": null,
            "align_content": null,
            "visibility": null,
            "align_self": null,
            "height": null,
            "min_height": null,
            "padding": null,
            "grid_auto_rows": null,
            "grid_gap": null,
            "max_width": null,
            "order": null,
            "_view_module_version": "1.2.0",
            "grid_template_areas": null,
            "object_position": null,
            "object_fit": null,
            "grid_auto_columns": null,
            "margin": null,
            "display": null,
            "left": null
          }
        },
        "70548098982d4fbca2305dcfe95e8b67": {
          "model_module": "@jupyter-widgets/controls",
          "model_name": "DescriptionStyleModel",
          "state": {
            "_view_name": "StyleView",
            "_model_name": "DescriptionStyleModel",
            "description_width": "",
            "_view_module": "@jupyter-widgets/base",
            "_model_module_version": "1.5.0",
            "_view_count": null,
            "_view_module_version": "1.2.0",
            "_model_module": "@jupyter-widgets/controls"
          }
        },
        "00c2c1587a3f49178961450da72dfd28": {
          "model_module": "@jupyter-widgets/base",
          "model_name": "LayoutModel",
          "state": {
            "_view_name": "LayoutView",
            "grid_template_rows": null,
            "right": null,
            "justify_content": null,
            "_view_module": "@jupyter-widgets/base",
            "overflow": null,
            "_model_module_version": "1.2.0",
            "_view_count": null,
            "flex_flow": null,
            "width": null,
            "min_width": null,
            "border": null,
            "align_items": null,
            "bottom": null,
            "_model_module": "@jupyter-widgets/base",
            "top": null,
            "grid_column": null,
            "overflow_y": null,
            "overflow_x": null,
            "grid_auto_flow": null,
            "grid_area": null,
            "grid_template_columns": null,
            "flex": null,
            "_model_name": "LayoutModel",
            "justify_items": null,
            "grid_row": null,
            "max_height": null,
            "align_content": null,
            "visibility": null,
            "align_self": null,
            "height": null,
            "min_height": null,
            "padding": null,
            "grid_auto_rows": null,
            "grid_gap": null,
            "max_width": null,
            "order": null,
            "_view_module_version": "1.2.0",
            "grid_template_areas": null,
            "object_position": null,
            "object_fit": null,
            "grid_auto_columns": null,
            "margin": null,
            "display": null,
            "left": null
          }
        }
      }
    }
  },
  "cells": [
    {
      "cell_type": "code",
      "metadata": {
        "id": "EMmU46AdP0l0",
        "colab_type": "code",
        "outputId": "6fe4a7a6-5628-4cfd-f045-37ef8f106c83",
        "colab": {
          "base_uri": "https://localhost:8080/",
          "height": 153
        }
      },
      "source": [
        "%tensorflow_version 2.x\n",
        "import numpy as np\n",
        "import pandas as pd\n",
        "import string\n",
        "from google.colab import drive\n",
        "import scipy.sparse as sp\n",
        "from scipy import stats\n",
        "!pip install lightfm\n",
        "from lightfm import LightFM\n",
        "from sklearn.feature_extraction.text import TfidfTransformer\n",
        "from sklearn.feature_extraction.text import CountVectorizer\n",
        "from sklearn.model_selection import train_test_split\n",
        "from sklearn.preprocessing import StandardScaler\n",
        "from sklearn.metrics import mean_squared_error\n",
        "from multiprocessing import cpu_count\n",
        "import matplotlib.pyplot as plt\n",
        "from sklearn.preprocessing import minmax_scale\n",
        "from tqdm.auto import tqdm\n",
        "from sklearn.pipeline import Pipeline"
      ],
      "execution_count": 0,
      "outputs": [
        {
          "output_type": "stream",
          "text": [
            "Requirement already satisfied: lightfm in /usr/local/lib/python3.6/dist-packages (1.15)\n",
            "Requirement already satisfied: scipy>=0.17.0 in /usr/local/lib/python3.6/dist-packages (from lightfm) (1.4.1)\n",
            "Requirement already satisfied: requests in /usr/local/lib/python3.6/dist-packages (from lightfm) (2.21.0)\n",
            "Requirement already satisfied: numpy in /usr/local/lib/python3.6/dist-packages (from lightfm) (1.18.2)\n",
            "Requirement already satisfied: urllib3<1.25,>=1.21.1 in /usr/local/lib/python3.6/dist-packages (from requests->lightfm) (1.24.3)\n",
            "Requirement already satisfied: idna<2.9,>=2.5 in /usr/local/lib/python3.6/dist-packages (from requests->lightfm) (2.8)\n",
            "Requirement already satisfied: certifi>=2017.4.17 in /usr/local/lib/python3.6/dist-packages (from requests->lightfm) (2020.4.5.1)\n",
            "Requirement already satisfied: chardet<3.1.0,>=3.0.2 in /usr/local/lib/python3.6/dist-packages (from requests->lightfm) (3.0.4)\n"
          ],
          "name": "stdout"
        }
      ]
    },
    {
      "cell_type": "code",
      "metadata": {
        "id": "GO52T7WlTCxG",
        "colab_type": "code",
        "outputId": "24f656ce-b224-4fc1-dcc4-85de847090dc",
        "colab": {
          "base_uri": "https://localhost:8080/",
          "height": 122
        }
      },
      "source": [
        "drive.mount('/content/gdrive/')"
      ],
      "execution_count": 0,
      "outputs": [
        {
          "output_type": "stream",
          "text": [
            "Go to this URL in a browser: https://accounts.google.com/o/oauth2/auth?client_id=947318989803-6bn6qk8qdgf4n4g3pfee6491hc0brc4i.apps.googleusercontent.com&redirect_uri=urn%3aietf%3awg%3aoauth%3a2.0%3aoob&response_type=code&scope=email%20https%3a%2f%2fwww.googleapis.com%2fauth%2fdocs.test%20https%3a%2f%2fwww.googleapis.com%2fauth%2fdrive%20https%3a%2f%2fwww.googleapis.com%2fauth%2fdrive.photos.readonly%20https%3a%2f%2fwww.googleapis.com%2fauth%2fpeopleapi.readonly\n",
            "\n",
            "Enter your authorization code:\n",
            "··········\n",
            "Mounted at /content/gdrive/\n"
          ],
          "name": "stdout"
        }
      ]
    },
    {
      "cell_type": "code",
      "metadata": {
        "id": "g4upyWntTGtK",
        "colab_type": "code",
        "colab": {}
      },
      "source": [
        "ratings = pd.read_csv('/content/gdrive/My Drive/ratings.csv')\n",
        "new_ratings = pd.read_csv('/content/gdrive/My Drive/new_ratings.csv')\n",
        "ratings = pd.concat([ratings, new_ratings])"
      ],
      "execution_count": 0,
      "outputs": []
    },
    {
      "cell_type": "code",
      "metadata": {
        "id": "VZaNY65EX3DF",
        "colab_type": "code",
        "colab": {}
      },
      "source": [
        "#A = new_ratings.values\n",
        "#coder = {}\n",
        "#k = 53426\n",
        "#for i, line in enumerate(A):\n",
        "#  if line[0] in coder:\n",
        "#    A[i][0] = coder[line[0]]\n",
        "#  else:\n",
        "#    coder[line[0]] = k\n",
        "#    A[i][0] = k\n",
        "#    k += 1"
      ],
      "execution_count": 0,
      "outputs": []
    },
    {
      "cell_type": "code",
      "metadata": {
        "id": "aXSI6uTzYk8E",
        "colab_type": "code",
        "colab": {}
      },
      "source": [
        "#new_ratings = pd.DataFrame(A, columns=['user_id', 'book_id', 'rating'])"
      ],
      "execution_count": 0,
      "outputs": []
    },
    {
      "cell_type": "code",
      "metadata": {
        "id": "O8WDo0UJZB42",
        "colab_type": "code",
        "colab": {}
      },
      "source": [
        "#new_ratings.to_csv('new_ratings.csv', index=False)"
      ],
      "execution_count": 0,
      "outputs": []
    },
    {
      "cell_type": "code",
      "metadata": {
        "id": "jZLIp0sSnBqj",
        "colab_type": "code",
        "colab": {}
      },
      "source": [
        "ratings['book_id'] -= 1\n",
        "ratings['user_id'] -= 1\n",
        "new_ratings['book_id'] -= 1\n",
        "new_ratings['user_id'] -= 1"
      ],
      "execution_count": 0,
      "outputs": []
    },
    {
      "cell_type": "code",
      "metadata": {
        "id": "5bMZgZYsPI1P",
        "colab_type": "code",
        "colab": {}
      },
      "source": [
        "train_ratings, test_ratings = train_test_split(ratings, test_size=.3, random_state=42, shuffle=True)"
      ],
      "execution_count": 0,
      "outputs": []
    },
    {
      "cell_type": "code",
      "metadata": {
        "id": "Y7Bo8SWzL_uW",
        "colab_type": "code",
        "colab": {}
      },
      "source": [
        "#train_ratings['pos_ex'] = (train_ratings.rating >= 4).astype(float)\n",
        "#train_ratings['neg_ex'] = -1 * (train_ratings.rating <= 3).astype(float)\n",
        "#train_ratings['ex'] = train_ratings['pos_ex'] + train_ratings['neg_ex']"
      ],
      "execution_count": 0,
      "outputs": []
    },
    {
      "cell_type": "code",
      "metadata": {
        "id": "GjmvpWhkj6P3",
        "colab_type": "code",
        "outputId": "24b9fcb5-77e6-4c63-c79e-2bbac9732413",
        "colab": {
          "base_uri": "https://localhost:8080/",
          "height": 187
        }
      },
      "source": [
        "train_ratings.sort_values(by=['user_id', 'rating'], ascending=[True, False], inplace=True)\n",
        "test_ratings.sort_values(by=['user_id', 'rating'], ascending=[True, False], inplace=True)"
      ],
      "execution_count": 0,
      "outputs": [
        {
          "output_type": "stream",
          "text": [
            "/usr/local/lib/python3.6/dist-packages/ipykernel_launcher.py:1: SettingWithCopyWarning: \n",
            "A value is trying to be set on a copy of a slice from a DataFrame\n",
            "\n",
            "See the caveats in the documentation: https://pandas.pydata.org/pandas-docs/stable/user_guide/indexing.html#returning-a-view-versus-a-copy\n",
            "  \"\"\"Entry point for launching an IPython kernel.\n",
            "/usr/local/lib/python3.6/dist-packages/ipykernel_launcher.py:2: SettingWithCopyWarning: \n",
            "A value is trying to be set on a copy of a slice from a DataFrame\n",
            "\n",
            "See the caveats in the documentation: https://pandas.pydata.org/pandas-docs/stable/user_guide/indexing.html#returning-a-view-versus-a-copy\n",
            "  \n"
          ],
          "name": "stderr"
        }
      ]
    },
    {
      "cell_type": "code",
      "metadata": {
        "id": "Vokz6rYRgR_V",
        "colab_type": "code",
        "colab": {}
      },
      "source": [
        "train_ratings = sp.coo_matrix((train_ratings.rating.values, \n",
        "                               (train_ratings.user_id.values, train_ratings.book_id.values)))"
      ],
      "execution_count": 0,
      "outputs": []
    },
    {
      "cell_type": "code",
      "metadata": {
        "id": "ADZqueKJm-3Y",
        "colab_type": "code",
        "colab": {}
      },
      "source": [
        "books = pd.read_csv('/content/gdrive/My Drive/translated_books.csv')\n",
        "titles = books['original_title']\n",
        "gid = books['goodreads_book_id']"
      ],
      "execution_count": 0,
      "outputs": []
    },
    {
      "cell_type": "code",
      "metadata": {
        "id": "FHd5LhTe6W7O",
        "colab_type": "code",
        "colab": {}
      },
      "source": [
        "#books['std'] = np.sqrt((books.ratings_1 * (1 - books.average_rating) ** 2 + \n",
        "#                        books.ratings_2 * (2 - books.average_rating) ** 2 + \n",
        "#                        books.ratings_3 * (3 - books.average_rating) ** 2 + \n",
        "#                        books.ratings_4 * (4 - books.average_rating) ** 2 + \n",
        "#                        books.ratings_5 * (5 - books.average_rating) ** 2) / books.work_ratings_count)\n",
        "#books['h'] = books['std'] * stats.t.ppf(1.95 / 2., books.work_ratings_count - 1)\n",
        "#books['min_rating'] = books['average_rating'] - books['h']"
      ],
      "execution_count": 0,
      "outputs": []
    },
    {
      "cell_type": "code",
      "metadata": {
        "id": "j9I9KGFORtUl",
        "colab_type": "code",
        "colab": {}
      },
      "source": [
        "#books['flag'] = pd.Series(books.ratings_count > 500000, dtype=np.int32, copy=True)\n",
        "#books.sort_values(by=['flag', 'min_rating'], ascending=[False, False], inplace=True)\n",
        "#books.drop(labels=['std', 'h'], axis=1, inplace=True)"
      ],
      "execution_count": 0,
      "outputs": []
    },
    {
      "cell_type": "code",
      "metadata": {
        "id": "rBq8bTCFQUGv",
        "colab_type": "code",
        "colab": {}
      },
      "source": [
        "#books.to_csv('sorted_trans_books.csv', index=False)"
      ],
      "execution_count": 0,
      "outputs": []
    },
    {
      "cell_type": "code",
      "metadata": {
        "id": "5gQbJmPjCk3p",
        "colab_type": "code",
        "colab": {}
      },
      "source": [
        "books.drop(labels=['ratings_count', 'work_ratings_count', 'work_text_reviews_count', \n",
        "                   'ratings_1', 'ratings_2', 'ratings_3', 'ratings_4', 'ratings_5', \n",
        "                   'average_rating', 'original_title', 'автор', 'prep', 'sum', 'inv_sum',\n",
        "                   'work_id', 'goodreads_book_id', 'book_id', 'isbn', 'isbn13', 'title', \n",
        "                   'image_url', 'small_image_url', 'best_book_id', \n",
        "                   'books_count', 'language_code'], axis=1, inplace=True)"
      ],
      "execution_count": 0,
      "outputs": []
    },
    {
      "cell_type": "code",
      "metadata": {
        "id": "vK3IEi2r24_m",
        "colab_type": "code",
        "outputId": "13e8ca60-ba84-44a6-e1d5-191dbb661f96",
        "colab": {
          "base_uri": "https://localhost:8080/",
          "height": 170
        }
      },
      "source": [
        "books.info()"
      ],
      "execution_count": 0,
      "outputs": [
        {
          "output_type": "stream",
          "text": [
            "<class 'pandas.core.frame.DataFrame'>\n",
            "RangeIndex: 10000 entries, 0 to 9999\n",
            "Data columns (total 2 columns):\n",
            " #   Column                     Non-Null Count  Dtype  \n",
            "---  ------                     --------------  -----  \n",
            " 0   authors                    10000 non-null  object \n",
            " 1   original_publication_year  9979 non-null   float64\n",
            "dtypes: float64(1), object(1)\n",
            "memory usage: 156.4+ KB\n"
          ],
          "name": "stdout"
        }
      ]
    },
    {
      "cell_type": "code",
      "metadata": {
        "id": "f4Xqf_gYwtYy",
        "colab_type": "code",
        "colab": {}
      },
      "source": [
        "books.fillna(books.original_publication_year.mean(), inplace=True)"
      ],
      "execution_count": 0,
      "outputs": []
    },
    {
      "cell_type": "code",
      "metadata": {
        "id": "UX-PVSWsQmGp",
        "colab_type": "code",
        "colab": {}
      },
      "source": [
        "authors = {}\n",
        "for i, line in enumerate(books.authors.unique()):\n",
        "  temp = list(map(lambda x: x.strip(), line.split(',')))\n",
        "  for author in temp:\n",
        "    if not authors.get(author):\n",
        "      authors[author] = [0] * len(books)\n",
        "    authors[author][i] = 1"
      ],
      "execution_count": 0,
      "outputs": []
    },
    {
      "cell_type": "code",
      "metadata": {
        "id": "zXqfw5W3z5LN",
        "colab_type": "code",
        "colab": {}
      },
      "source": [
        "pref = set()\n",
        "for key in authors.keys():\n",
        "  s = sum(authors[key])\n",
        "  if s > 1:\n",
        "    pref.add(key)\n",
        "pref.add('Others')"
      ],
      "execution_count": 0,
      "outputs": []
    },
    {
      "cell_type": "code",
      "metadata": {
        "id": "ivy8F3AA1N8C",
        "colab_type": "code",
        "colab": {}
      },
      "source": [
        "authors['Others'] = [0] * len(books)\n",
        "d = authors.copy()\n",
        "for author in d.keys():\n",
        "  if author not in pref:\n",
        "    for i in range(len(books)):\n",
        "      if d[author][i]:\n",
        "        authors['Others'] = 1\n",
        "    del authors[author]"
      ],
      "execution_count": 0,
      "outputs": []
    },
    {
      "cell_type": "code",
      "metadata": {
        "id": "frQAij7hSnoQ",
        "colab_type": "code",
        "colab": {}
      },
      "source": [
        "authors = pd.DataFrame.from_dict(authors)"
      ],
      "execution_count": 0,
      "outputs": []
    },
    {
      "cell_type": "code",
      "metadata": {
        "id": "dEGdK_1uVYwP",
        "colab_type": "code",
        "colab": {}
      },
      "source": [
        "books.drop(labels=['authors'], axis=1, inplace=True)"
      ],
      "execution_count": 0,
      "outputs": []
    },
    {
      "cell_type": "code",
      "metadata": {
        "id": "3_4iN9i_XnoB",
        "colab_type": "code",
        "colab": {}
      },
      "source": [
        "X = books.values\n",
        "X = minmax_scale(X)"
      ],
      "execution_count": 0,
      "outputs": []
    },
    {
      "cell_type": "code",
      "metadata": {
        "id": "rWcVg2uOYdNC",
        "colab_type": "code",
        "outputId": "9bf7bf3d-b5dc-479a-b0b6-fd32f236b3f9",
        "colab": {
          "base_uri": "https://localhost:8080/",
          "height": 204
        }
      },
      "source": [
        "books = pd.DataFrame(X, columns=books.columns)"
      ],
      "execution_count": 0,
      "outputs": [
        {
          "output_type": "execute_result",
          "data": {
            "text/html": [
              "<div>\n",
              "<style scoped>\n",
              "    .dataframe tbody tr th:only-of-type {\n",
              "        vertical-align: middle;\n",
              "    }\n",
              "\n",
              "    .dataframe tbody tr th {\n",
              "        vertical-align: top;\n",
              "    }\n",
              "\n",
              "    .dataframe thead th {\n",
              "        text-align: right;\n",
              "    }\n",
              "</style>\n",
              "<table border=\"1\" class=\"dataframe\">\n",
              "  <thead>\n",
              "    <tr style=\"text-align: right;\">\n",
              "      <th></th>\n",
              "      <th>original_publication_year</th>\n",
              "    </tr>\n",
              "  </thead>\n",
              "  <tbody>\n",
              "    <tr>\n",
              "      <th>0</th>\n",
              "      <td>0.997611</td>\n",
              "    </tr>\n",
              "    <tr>\n",
              "      <th>1</th>\n",
              "      <td>0.994691</td>\n",
              "    </tr>\n",
              "    <tr>\n",
              "      <th>2</th>\n",
              "      <td>0.996814</td>\n",
              "    </tr>\n",
              "    <tr>\n",
              "      <th>3</th>\n",
              "      <td>0.984869</td>\n",
              "    </tr>\n",
              "    <tr>\n",
              "      <th>4</th>\n",
              "      <td>0.975577</td>\n",
              "    </tr>\n",
              "  </tbody>\n",
              "</table>\n",
              "</div>"
            ],
            "text/plain": [
              "   original_publication_year\n",
              "0                   0.997611\n",
              "1                   0.994691\n",
              "2                   0.996814\n",
              "3                   0.984869\n",
              "4                   0.975577"
            ]
          },
          "metadata": {
            "tags": []
          },
          "execution_count": 25
        }
      ]
    },
    {
      "cell_type": "code",
      "metadata": {
        "id": "sMAm2PmyU_5o",
        "colab_type": "code",
        "colab": {}
      },
      "source": [
        "books = pd.concat((books, authors), axis=1)"
      ],
      "execution_count": 0,
      "outputs": []
    },
    {
      "cell_type": "code",
      "metadata": {
        "id": "ad6_6MDiVoYS",
        "colab_type": "code",
        "colab": {}
      },
      "source": [
        "#books = pd.read_csv('/content/gdrive/My Drive/auth_books.csv')\n",
        "book_features = sp.csr_matrix(books)"
      ],
      "execution_count": 0,
      "outputs": []
    },
    {
      "cell_type": "code",
      "metadata": {
        "id": "lWxA1I2VPWAV",
        "colab_type": "code",
        "colab": {}
      },
      "source": [
        "tags = pd.read_csv('/content/gdrive/My Drive/tags.csv')"
      ],
      "execution_count": 0,
      "outputs": []
    },
    {
      "cell_type": "code",
      "metadata": {
        "id": "YKdFKpiulB-C",
        "colab_type": "code",
        "colab": {}
      },
      "source": [
        "def delete_punctuation(text):\n",
        "  exclude = string.punctuation + \"«»\\n-\"\n",
        "  table = str.maketrans(exclude, \" \" * len(exclude))\n",
        "  return text.translate(table).lower()"
      ],
      "execution_count": 0,
      "outputs": []
    },
    {
      "cell_type": "code",
      "metadata": {
        "id": "zR4KXOPNlCvU",
        "colab_type": "code",
        "colab": {}
      },
      "source": [
        "def format_str(text):\n",
        "  words = [word for word in delete_punctuation(text).split()]\n",
        "  return ' '.join(words)"
      ],
      "execution_count": 0,
      "outputs": []
    },
    {
      "cell_type": "code",
      "metadata": {
        "id": "6du3hbkAlSTQ",
        "colab_type": "code",
        "outputId": "6666eabc-0500-4146-fa84-3d6456611e0b",
        "colab": {
          "base_uri": "https://localhost:8080/",
          "height": 66,
          "referenced_widgets": [
            "1044f39cac494338b376155736028e47",
            "835f18129d5e4e74ac6f3850b5d2af44",
            "6219175db712456ea40bd78356bec8d1",
            "e5939dadb76c4af0b07d06d08f83f313",
            "6a176d77be364cc48f0501818a070bfa",
            "245ada365c8f4640a0d6f4889d2eabeb",
            "70548098982d4fbca2305dcfe95e8b67",
            "00c2c1587a3f49178961450da72dfd28"
          ]
        }
      },
      "source": [
        "t = {}\n",
        "for i, line in enumerate(tqdm(tags.values)):\n",
        "  if type(line[1]) == str:\n",
        "    t[line[0]] = format_str(line[1])"
      ],
      "execution_count": 0,
      "outputs": [
        {
          "output_type": "display_data",
          "data": {
            "application/vnd.jupyter.widget-view+json": {
              "model_id": "1044f39cac494338b376155736028e47",
              "version_minor": 0,
              "version_major": 2
            },
            "text/plain": [
              "HBox(children=(IntProgress(value=0, max=33303), HTML(value='')))"
            ]
          },
          "metadata": {
            "tags": []
          }
        },
        {
          "output_type": "stream",
          "text": [
            "\n"
          ],
          "name": "stdout"
        }
      ]
    },
    {
      "cell_type": "code",
      "metadata": {
        "id": "ffqr15RpIEMM",
        "colab_type": "code",
        "colab": {}
      },
      "source": [
        "book_tags = pd.read_csv('/content/gdrive/My Drive/book_tags.csv')"
      ],
      "execution_count": 0,
      "outputs": []
    },
    {
      "cell_type": "code",
      "metadata": {
        "id": "hM1pSHvRIsPr",
        "colab_type": "code",
        "colab": {}
      },
      "source": [
        "g = {}\n",
        "book_tags.head(50)\n",
        "for i, line in enumerate(book_tags.values):\n",
        "  if line[0] in g:\n",
        "    if line[1] in t:\n",
        "      if line[2] >= 500:\n",
        "        g[line[0]] += ' ' + t[line[1]]\n",
        "      else:\n",
        "        del t[line[1]]\n",
        "  else:\n",
        "    if line[1] in t:\n",
        "      if line[2] >= 500:\n",
        "        g[line[0]] = t[line[1]]"
      ],
      "execution_count": 0,
      "outputs": []
    },
    {
      "cell_type": "code",
      "metadata": {
        "id": "VUK9HvfVMkI5",
        "colab_type": "code",
        "colab": {}
      },
      "source": [
        "t = []\n",
        "for i in gid:\n",
        "  if i in g:\n",
        "    t.append(g[i])\n",
        "  else:\n",
        "    t.append('')"
      ],
      "execution_count": 0,
      "outputs": []
    },
    {
      "cell_type": "code",
      "metadata": {
        "id": "eaRBMHFiQWm7",
        "colab_type": "code",
        "colab": {}
      },
      "source": [
        "vectorizer = CountVectorizer()\n",
        "vectorized_tags = vectorizer.fit_transform(t)\n",
        "transformer = TfidfTransformer()\n",
        "transformed_tags = transformer.fit_transform(vectorized_tags)"
      ],
      "execution_count": 0,
      "outputs": []
    },
    {
      "cell_type": "code",
      "metadata": {
        "id": "1OWrtAKgRbsW",
        "colab_type": "code",
        "outputId": "f5def351-4b12-4db2-8a06-ed0335f7a17b",
        "colab": {
          "base_uri": "https://localhost:8080/",
          "height": 51
        }
      },
      "source": [
        "transformed_tags"
      ],
      "execution_count": 0,
      "outputs": [
        {
          "output_type": "execute_result",
          "data": {
            "text/plain": [
              "<10000x246 sparse matrix of type '<class 'numpy.float64'>'\n",
              "\twith 1683 stored elements in Compressed Sparse Row format>"
            ]
          },
          "metadata": {
            "tags": []
          },
          "execution_count": 36
        }
      ]
    },
    {
      "cell_type": "code",
      "metadata": {
        "id": "-ZSscAntR5N6",
        "colab_type": "code",
        "colab": {}
      },
      "source": [
        "book_features = sp.hstack((book_features, transformed_tags))"
      ],
      "execution_count": 0,
      "outputs": []
    },
    {
      "cell_type": "code",
      "metadata": {
        "id": "P5c5UqYfSQbg",
        "colab_type": "code",
        "outputId": "919494d5-7b5d-46f5-e6e5-f566ccaf34d5",
        "colab": {
          "base_uri": "https://localhost:8080/",
          "height": 51
        }
      },
      "source": [
        "book_features"
      ],
      "execution_count": 0,
      "outputs": [
        {
          "output_type": "execute_result",
          "data": {
            "text/plain": [
              "<10000x1089 sparse matrix of type '<class 'numpy.float64'>'\n",
              "\twith 24046 stored elements in COOrdinate format>"
            ]
          },
          "metadata": {
            "tags": []
          },
          "execution_count": 38
        }
      ]
    },
    {
      "cell_type": "code",
      "metadata": {
        "id": "R12PqacEWuNs",
        "colab_type": "code",
        "colab": {}
      },
      "source": [
        "model = LightFM(no_components=50, loss='warp', random_state=42)\n",
        "history = []"
      ],
      "execution_count": 0,
      "outputs": []
    },
    {
      "cell_type": "code",
      "metadata": {
        "id": "endNxXxSnJ0p",
        "colab_type": "code",
        "outputId": "3dde5c07-a6f5-47b6-d6fe-5dbdfd8c0a71",
        "colab": {
          "base_uri": "https://localhost:8080/",
          "height": 1000
        }
      },
      "source": [
        "n = 150 #(150)\n",
        "for i in range(n):\n",
        "  model.fit_partial(train_ratings, item_features=book_features, num_threads=cpu_count(), epochs=1)\n",
        "  pred_ratings = pd.DataFrame(test_ratings)\n",
        "  pred_ratings['probs'] = model.predict(test_ratings.user_id.values, \n",
        "                                        test_ratings.book_id.values, \n",
        "                                        item_features=book_features, num_threads=cpu_count())\n",
        "  pred_ratings.sort_values(by=['user_id', 'probs'], ascending=[True, False], inplace=True)\n",
        "  history.append(np.sqrt(mean_squared_error(pred_ratings.rating.values, test_ratings.rating.values)))\n",
        "  print(history[i])"
      ],
      "execution_count": 0,
      "outputs": [
        {
          "output_type": "stream",
          "text": [
            "1.2078613762593366\n",
            "1.207671582383971\n",
            "1.2070474997838834\n",
            "1.2063694663777116\n",
            "1.2060938919759328\n",
            "1.20565450726013\n",
            "1.2054953642471926\n",
            "1.205468992591005\n",
            "1.2052306962046226\n",
            "1.2049798557134834\n",
            "1.2045409906710942\n",
            "1.2044053175426472\n",
            "1.2040866802745618\n",
            "1.2036396123238586\n",
            "1.2034815931599592\n",
            "1.2035163498878327\n",
            "1.2031469503690078\n",
            "1.2028140692238571\n",
            "1.2024217261015646\n",
            "1.2023335936103876\n",
            "1.2021772585093153\n",
            "1.201935525351789\n",
            "1.2020904999936053\n",
            "1.201814408503403\n",
            "1.2015999878294736\n",
            "1.2015340759517363\n",
            "1.201381350734436\n",
            "1.2010205821689355\n",
            "1.2009314180251143\n",
            "1.200838531668523\n",
            "1.2007869766401182\n",
            "1.2005863089686313\n",
            "1.2005760888841333\n",
            "1.2002104313487003\n",
            "1.200070085916501\n",
            "1.2001918434926286\n",
            "1.2001239953748264\n",
            "1.1999924706328537\n",
            "1.1999246112417823\n",
            "1.1997735405968273\n",
            "1.1997688919676353\n",
            "1.1998711576495387\n",
            "1.1996745209007107\n",
            "1.19939926829424\n",
            "1.1993420710597373\n",
            "1.1993527666849149\n",
            "1.1994160084322527\n",
            "1.1994936610168707\n",
            "1.1995415520208352\n",
            "1.1994583227394175\n",
            "1.1994880813580666\n",
            "1.1991509288044462\n",
            "1.1993774127624128\n",
            "1.1993095185701068\n",
            "1.1992225525859508\n",
            "1.1992444109400149\n",
            "1.1992648737189222\n",
            "1.199249061602244\n",
            "1.199131859414246\n",
            "1.199144882445264\n",
            "1.1989434747521555\n",
            "1.1989951090484359\n",
            "1.198939288090132\n",
            "1.1989206805264778\n",
            "1.1988699734497377\n",
            "1.1988788124523155\n",
            "1.198927658396691\n",
            "1.1986545607665626\n",
            "1.1987164435346582\n",
            "1.1986312957417231\n",
            "1.1985647552779883\n",
            "1.1985284589225176\n",
            "1.1982054660144874\n",
            "1.198299487341788\n",
            "1.1981309884394933\n",
            "1.1982445648882343\n",
            "1.198232928452016\n",
            "1.198143091360459\n",
            "1.1978456033734506\n",
            "1.1979145117033618\n",
            "1.1980229877316213\n",
            "1.1979484988117823\n",
            "1.198003434838482\n",
            "1.1980956099695041\n",
            "1.1979592068790583\n",
            "1.197998313789924\n",
            "1.1978726084615614\n",
            "1.1977892632123597\n",
            "1.197982019398873\n",
            "1.1978479314222676\n",
            "1.1978870419658962\n",
            "1.1977250042565737\n",
            "1.1977175537198284\n",
            "1.1976211582217946\n",
            "1.197557821690341\n",
            "1.1975657389399608\n",
            "1.1976272122736744\n",
            "1.1976090500262233\n",
            "1.197567136096225\n",
            "1.197703118172993\n",
            "1.1977850725159784\n",
            "1.1977697065038038\n",
            "1.1977631875299926\n",
            "1.1977273325398021\n",
            "1.1977319890926805\n",
            "1.1977999727031667\n",
            "1.1977697065038038\n",
            "1.1977268668835184\n",
            "1.1977105687995369\n",
            "1.1976775062907423\n",
            "1.1977371112799373\n",
            "1.1977841412481247\n",
            "1.1976975301726687\n",
            "1.1976621388984923\n",
            "1.1975247549643455\n",
            "1.1975373297423824\n",
            "1.1976034615869784\n",
            "1.1975037967075162\n",
            "1.1974264808543023\n",
            "1.1974469746992216\n",
            "1.1973896842070335\n",
            "1.197467002436066\n",
            "1.1973617366307563\n",
            "1.1973202798577838\n",
            "1.1974399882005855\n",
            "1.1975182346570827\n",
            "1.197436262051312\n",
            "1.1973552154357623\n",
            "1.1973799026295373\n",
            "1.1975405898484675\n",
            "1.197468399707532\n",
            "1.1975988045343537\n",
            "1.1976160355386083\n",
            "1.1976002016520426\n",
            "1.197545712854384\n",
            "1.1973747789141962\n",
            "1.1973170191518294\n",
            "1.1974097129021124\n",
            "1.19752522069922\n",
            "1.1973556812365826\n",
            "1.197410644461172\n",
            "1.1974548926817317\n",
            "1.197513577273016\n",
            "1.1974618790934088\n",
            "1.1973496258117848\n",
            "1.1971446549100186\n",
            "1.1972108084452902\n",
            "1.197243883842187\n",
            "1.1971777321345924\n",
            "1.1971376666470432\n"
          ],
          "name": "stdout"
        }
      ]
    },
    {
      "cell_type": "code",
      "metadata": {
        "id": "33G6aNionqib",
        "colab_type": "code",
        "colab": {}
      },
      "source": [
        "u = {}\n",
        "for line in new_ratings.values:\n",
        "  if u.get(line[0]):\n",
        "    u[line[0]].add(line[1])\n",
        "  else:\n",
        "    u[line[0]] = set()\n",
        "    u[line[0]].add(line[1])"
      ],
      "execution_count": 0,
      "outputs": []
    },
    {
      "cell_type": "code",
      "metadata": {
        "id": "RWTXVC1epagE",
        "colab_type": "code",
        "colab": {}
      },
      "source": [
        "pred_u = []\n",
        "pred_b = []\n",
        "for key in u.keys():\n",
        "  k = 0\n",
        "  for i in range(10000):\n",
        "    if k == 50:\n",
        "      break\n",
        "    if i not in u[key]:\n",
        "      pred_u.append(int(key))\n",
        "      pred_b.append(i)\n",
        "      k += 1"
      ],
      "execution_count": 0,
      "outputs": []
    },
    {
      "cell_type": "code",
      "metadata": {
        "id": "mcwQBK4Cs4eJ",
        "colab_type": "code",
        "outputId": "50c33931-f304-4ba4-c4e2-4944d255b08b",
        "colab": {
          "base_uri": "https://localhost:8080/",
          "height": 204
        }
      },
      "source": [
        "preds = pd.DataFrame(data=zip(pred_u, pred_b), index=None, columns=['user_id', 'book_id'])\n",
        "preds.head()"
      ],
      "execution_count": 0,
      "outputs": [
        {
          "output_type": "execute_result",
          "data": {
            "text/html": [
              "<div>\n",
              "<style scoped>\n",
              "    .dataframe tbody tr th:only-of-type {\n",
              "        vertical-align: middle;\n",
              "    }\n",
              "\n",
              "    .dataframe tbody tr th {\n",
              "        vertical-align: top;\n",
              "    }\n",
              "\n",
              "    .dataframe thead th {\n",
              "        text-align: right;\n",
              "    }\n",
              "</style>\n",
              "<table border=\"1\" class=\"dataframe\">\n",
              "  <thead>\n",
              "    <tr style=\"text-align: right;\">\n",
              "      <th></th>\n",
              "      <th>user_id</th>\n",
              "      <th>book_id</th>\n",
              "    </tr>\n",
              "  </thead>\n",
              "  <tbody>\n",
              "    <tr>\n",
              "      <th>0</th>\n",
              "      <td>53425</td>\n",
              "      <td>2</td>\n",
              "    </tr>\n",
              "    <tr>\n",
              "      <th>1</th>\n",
              "      <td>53425</td>\n",
              "      <td>3</td>\n",
              "    </tr>\n",
              "    <tr>\n",
              "      <th>2</th>\n",
              "      <td>53425</td>\n",
              "      <td>4</td>\n",
              "    </tr>\n",
              "    <tr>\n",
              "      <th>3</th>\n",
              "      <td>53425</td>\n",
              "      <td>5</td>\n",
              "    </tr>\n",
              "    <tr>\n",
              "      <th>4</th>\n",
              "      <td>53425</td>\n",
              "      <td>6</td>\n",
              "    </tr>\n",
              "  </tbody>\n",
              "</table>\n",
              "</div>"
            ],
            "text/plain": [
              "   user_id  book_id\n",
              "0    53425        2\n",
              "1    53425        3\n",
              "2    53425        4\n",
              "3    53425        5\n",
              "4    53425        6"
            ]
          },
          "metadata": {
            "tags": []
          },
          "execution_count": 52
        }
      ]
    },
    {
      "cell_type": "code",
      "metadata": {
        "id": "FjcNEIwgprWC",
        "colab_type": "code",
        "colab": {}
      },
      "source": [
        "preds['score'] = model.predict(preds.user_id.values, preds.book_id.values, \n",
        "                      item_features=book_features)"
      ],
      "execution_count": 0,
      "outputs": []
    },
    {
      "cell_type": "code",
      "metadata": {
        "id": "T91fZBchuoyd",
        "colab_type": "code",
        "colab": {}
      },
      "source": [
        "preds.sort_values(by=['user_id', 'score'], ascending=[True, False], inplace=True)"
      ],
      "execution_count": 0,
      "outputs": []
    },
    {
      "cell_type": "code",
      "metadata": {
        "id": "XNUKinv4vbZF",
        "colab_type": "code",
        "outputId": "dce499f1-850f-4647-b3bb-8eb01a5f5c61",
        "colab": {
          "base_uri": "https://localhost:8080/",
          "height": 419
        }
      },
      "source": [
        "preds"
      ],
      "execution_count": 0,
      "outputs": [
        {
          "output_type": "execute_result",
          "data": {
            "text/html": [
              "<div>\n",
              "<style scoped>\n",
              "    .dataframe tbody tr th:only-of-type {\n",
              "        vertical-align: middle;\n",
              "    }\n",
              "\n",
              "    .dataframe tbody tr th {\n",
              "        vertical-align: top;\n",
              "    }\n",
              "\n",
              "    .dataframe thead th {\n",
              "        text-align: right;\n",
              "    }\n",
              "</style>\n",
              "<table border=\"1\" class=\"dataframe\">\n",
              "  <thead>\n",
              "    <tr style=\"text-align: right;\">\n",
              "      <th></th>\n",
              "      <th>user_id</th>\n",
              "      <th>book_id</th>\n",
              "      <th>score</th>\n",
              "    </tr>\n",
              "  </thead>\n",
              "  <tbody>\n",
              "    <tr>\n",
              "      <th>9</th>\n",
              "      <td>53425</td>\n",
              "      <td>12</td>\n",
              "      <td>-3.769799</td>\n",
              "    </tr>\n",
              "    <tr>\n",
              "      <th>22</th>\n",
              "      <td>53425</td>\n",
              "      <td>26</td>\n",
              "      <td>-3.948902</td>\n",
              "    </tr>\n",
              "    <tr>\n",
              "      <th>17</th>\n",
              "      <td>53425</td>\n",
              "      <td>20</td>\n",
              "      <td>-3.965206</td>\n",
              "    </tr>\n",
              "    <tr>\n",
              "      <th>13</th>\n",
              "      <td>53425</td>\n",
              "      <td>16</td>\n",
              "      <td>-4.017804</td>\n",
              "    </tr>\n",
              "    <tr>\n",
              "      <th>0</th>\n",
              "      <td>53425</td>\n",
              "      <td>2</td>\n",
              "      <td>-4.237250</td>\n",
              "    </tr>\n",
              "    <tr>\n",
              "      <th>...</th>\n",
              "      <td>...</td>\n",
              "      <td>...</td>\n",
              "      <td>...</td>\n",
              "    </tr>\n",
              "    <tr>\n",
              "      <th>948</th>\n",
              "      <td>53443</td>\n",
              "      <td>50</td>\n",
              "      <td>-5.629990</td>\n",
              "    </tr>\n",
              "    <tr>\n",
              "      <th>900</th>\n",
              "      <td>53443</td>\n",
              "      <td>0</td>\n",
              "      <td>-5.630939</td>\n",
              "    </tr>\n",
              "    <tr>\n",
              "      <th>930</th>\n",
              "      <td>53443</td>\n",
              "      <td>30</td>\n",
              "      <td>-5.631886</td>\n",
              "    </tr>\n",
              "    <tr>\n",
              "      <th>911</th>\n",
              "      <td>53443</td>\n",
              "      <td>11</td>\n",
              "      <td>-5.633782</td>\n",
              "    </tr>\n",
              "    <tr>\n",
              "      <th>947</th>\n",
              "      <td>53443</td>\n",
              "      <td>49</td>\n",
              "      <td>-5.857448</td>\n",
              "    </tr>\n",
              "  </tbody>\n",
              "</table>\n",
              "<p>950 rows × 3 columns</p>\n",
              "</div>"
            ],
            "text/plain": [
              "     user_id  book_id     score\n",
              "9      53425       12 -3.769799\n",
              "22     53425       26 -3.948902\n",
              "17     53425       20 -3.965206\n",
              "13     53425       16 -4.017804\n",
              "0      53425        2 -4.237250\n",
              "..       ...      ...       ...\n",
              "948    53443       50 -5.629990\n",
              "900    53443        0 -5.630939\n",
              "930    53443       30 -5.631886\n",
              "911    53443       11 -5.633782\n",
              "947    53443       49 -5.857448\n",
              "\n",
              "[950 rows x 3 columns]"
            ]
          },
          "metadata": {
            "tags": []
          },
          "execution_count": 55
        }
      ]
    },
    {
      "cell_type": "code",
      "metadata": {
        "id": "4g9dQhrAwSPq",
        "colab_type": "code",
        "colab": {}
      },
      "source": [
        "preds.drop(labels=['score'], axis=1, inplace=True)"
      ],
      "execution_count": 0,
      "outputs": []
    },
    {
      "cell_type": "code",
      "metadata": {
        "id": "3IyT7XdFvina",
        "colab_type": "code",
        "colab": {}
      },
      "source": [
        "preds.to_csv('predictions.csv', index=False)"
      ],
      "execution_count": 0,
      "outputs": []
    },
    {
      "cell_type": "code",
      "metadata": {
        "id": "ruFgv5wDxLL3",
        "colab_type": "code",
        "outputId": "1b6e9eeb-e0e0-4d07-fdab-25d42e2e1a90",
        "colab": {
          "base_uri": "https://localhost:8080/",
          "height": 34
        }
      },
      "source": [
        "print(u[53426])"
      ],
      "execution_count": 0,
      "outputs": [
        {
          "output_type": "stream",
          "text": [
            "{0, 1, 513, 7, 2186, 46, 591, 47, 497, 1040, 16, 80, 22, 54, 7067, 31}\n"
          ],
          "name": "stdout"
        }
      ]
    },
    {
      "cell_type": "code",
      "metadata": {
        "id": "2loi7siBy2fj",
        "colab_type": "code",
        "outputId": "1c954128-740e-4f2e-c8e0-dd4d5b694ad0",
        "colab": {
          "base_uri": "https://localhost:8080/",
          "height": 34
        }
      },
      "source": [
        "sum(titles == \"Harry Potter and the Philosopher's Stone\")"
      ],
      "execution_count": 0,
      "outputs": [
        {
          "output_type": "execute_result",
          "data": {
            "text/plain": [
              "1"
            ]
          },
          "metadata": {
            "tags": []
          },
          "execution_count": 86
        }
      ]
    },
    {
      "cell_type": "code",
      "metadata": {
        "id": "dK8EHwi2xNst",
        "colab_type": "code",
        "outputId": "02e66a9d-686f-4d90-8454-19a06395397a",
        "colab": {
          "base_uri": "https://localhost:8080/",
          "height": 867
        }
      },
      "source": [
        "for line in preds.values:\n",
        "  if line[0] == 53426:\n",
        "    print(titles[line[1]])"
      ],
      "execution_count": 0,
      "outputs": [
        {
          "output_type": "stream",
          "text": [
            "Nineteen Eighty-Four\n",
            "The Kite Runner \n",
            "Harry Potter and the Order of the Phoenix\n",
            "Harry Potter and the Half-Blood Prince\n",
            "Twilight\n",
            "The Great Gatsby\n",
            "The Secret Life of Bees\n",
            "Animal Farm: A Fairy Story\n",
            "O Alquimista\n",
            "Water for Elephants\n",
            "The Hobbit or There and Back Again\n",
            "Män som hatar kvinnor\n",
            "Jane Eyre\n",
            "The Fault in Our Stars\n",
            "Mockingjay\n",
            "The Da Vinci Code\n",
            "Lord of the Flies \n",
            "Pride and Prejudice\n",
            "Het Achterhuis: Dagboekbrieven 14 juni 1942 - 1 augustus 1944\n",
            "A Game of Thrones\n",
            "The Lightning Thief\n",
            "Gone Girl\n",
            "Eclipse\n",
            "Breaking Dawn\n",
            "Fifty Shades of Grey\n",
            "Where the Sidewalk Ends: The Poems and Drawings of Shel Silverstein\n",
            "The Notebook\n",
            "The Adventures of Huckleberry Finn\n",
            "An Excellent conceited Tragedie of Romeo and Juliet\n",
            "Little Women\n",
            "The Lion, the Witch and the Wardrobe\n",
            "Charlotte's Web\n",
            " The Fellowship of the Ring\n",
            "To Kill a Mockingbird\n",
            "The Hitchhiker's Guide to the Galaxy\n",
            "The Giver\n",
            "Memoirs of a Geisha\n",
            "Harry Potter and the Prisoner of Azkaban\n",
            "Angels & Demons \n",
            "Harry Potter and the Goblet of Fire\n",
            "Life of Pi\n",
            "The Lovely Bones\n",
            "Eragon\n",
            "The Time Traveler's Wife\n",
            "Eat, pray, love: one woman's search for everything across Italy, India and Indonesia\n",
            "New Moon (Twilight, #2)\n",
            "Harry Potter and the Deathly Hallows\n",
            "City of Bones\n",
            "The Help\n",
            "Divergent\n"
          ],
          "name": "stdout"
        }
      ]
    },
    {
      "cell_type": "code",
      "metadata": {
        "id": "yDCg9saRZpd6",
        "colab_type": "code",
        "outputId": "1238fe5e-58a4-465b-804f-4f351cde635d",
        "colab": {
          "base_uri": "https://localhost:8080/",
          "height": 289
        }
      },
      "source": [
        "for val in u[53426]:\n",
        "  print(titles[val])"
      ],
      "execution_count": 0,
      "outputs": [
        {
          "output_type": "stream",
          "text": [
            "The Hunger Games\n",
            "Harry Potter and the Philosopher's Stone\n",
            "The Adventures of Sherlock Holmes\n",
            "The Catcher in the Rye\n",
            "Мы\n",
            "The Book Thief\n",
            "Мастер и Маргарита\n",
            "Fahrenheit 451\n",
            "Война и миръ\n",
            "Идиот\n",
            "Catching Fire\n",
            "The Glass Castle\n",
            "Harry Potter and the Chamber of Secrets\n",
            "Brave New World\n",
            "Martin Eden\n",
            "Of Mice and Men \n"
          ],
          "name": "stdout"
        }
      ]
    },
    {
      "cell_type": "code",
      "metadata": {
        "colab_type": "code",
        "id": "JTWHz2aeiRKh",
        "colab": {}
      },
      "source": [
        "R = pd.pivot_table(\n",
        "    ratings[-1000000:],\n",
        "    values='rating',\n",
        "    index='user_id',\n",
        "    columns='book_id').fillna(0)"
      ],
      "execution_count": 0,
      "outputs": []
    },
    {
      "cell_type": "code",
      "metadata": {
        "id": "JFYWyuHYR7gS",
        "colab_type": "code",
        "colab": {}
      },
      "source": [
        "from scipy.linalg import svd"
      ],
      "execution_count": 0,
      "outputs": []
    },
    {
      "cell_type": "code",
      "metadata": {
        "id": "TsW6NvO6SCWz",
        "colab_type": "code",
        "outputId": "be1fe1cf-ba62-42a4-f335-20ddf5c2198f",
        "colab": {
          "base_uri": "https://localhost:8080/",
          "height": 34
        }
      },
      "source": [
        "U, sigma, V = svd(R)\n",
        "print(ratings.shape, U.shape, sigma.shape, V.shape)"
      ],
      "execution_count": 0,
      "outputs": [
        {
          "output_type": "stream",
          "text": [
            "(5976616, 3) (30745, 30745) (9999,) (9999, 9999)\n"
          ],
          "name": "stdout"
        }
      ]
    },
    {
      "cell_type": "code",
      "metadata": {
        "id": "YD8acJgqSIYq",
        "colab_type": "code",
        "outputId": "a6ae37c7-2df7-419e-b2d3-0da067766a49",
        "colab": {
          "base_uri": "https://localhost:8080/",
          "height": 34
        }
      },
      "source": [
        "Sigma = np.zeros((30745, 9999))\n",
        "Sigma[:9999, :9999] = np.diag(sigma)\n",
        "\n",
        "new_ratings = U.dot(Sigma).dot(V)\n",
        "print(sum(sum((new_ratings - R.values) ** 2)))"
      ],
      "execution_count": 0,
      "outputs": [
        {
          "output_type": "stream",
          "text": [
            "6.939214776909276e-22\n"
          ],
          "name": "stdout"
        }
      ]
    },
    {
      "cell_type": "code",
      "metadata": {
        "id": "bwKhrvfgVZ-e",
        "colab_type": "code",
        "colab": {}
      },
      "source": [
        "K = 100\n",
        "####### Здесь ваш код ##########\n",
        "sigma[K:] = 0\n",
        "Sigma = np.zeros((30745, 9999))\n",
        "Sigma[:9999, :9999] = np.diag(sigma)"
      ],
      "execution_count": 0,
      "outputs": []
    },
    {
      "cell_type": "code",
      "metadata": {
        "id": "pps7XF4vUx7y",
        "colab_type": "code",
        "outputId": "489483ac-cd5e-4316-fcc4-18a877a5fe94",
        "colab": {
          "base_uri": "https://localhost:8080/",
          "height": 51
        }
      },
      "source": [
        "new_ratings = U.dot(Sigma).dot(V)\n",
        "print(sum(sum((new_ratings - R.values) ** 2)))\n",
        "print(sum(sum((R.values.mean() - R.values) ** 2)))"
      ],
      "execution_count": 0,
      "outputs": [
        {
          "output_type": "stream",
          "text": [
            "11892145.287572963\n",
            "16275200.248298053\n"
          ],
          "name": "stdout"
        }
      ]
    },
    {
      "cell_type": "code",
      "metadata": {
        "id": "m9pWPFKkWqZA",
        "colab_type": "code",
        "outputId": "49feab95-2891-46de-9ace-7a3fa4ed39f2",
        "colab": {
          "base_uri": "https://localhost:8080/",
          "height": 34
        }
      },
      "source": [
        "R.shape"
      ],
      "execution_count": 0,
      "outputs": [
        {
          "output_type": "execute_result",
          "data": {
            "text/plain": [
              "(30745, 9999)"
            ]
          },
          "metadata": {
            "tags": []
          },
          "execution_count": 13
        }
      ]
    },
    {
      "cell_type": "code",
      "metadata": {
        "id": "-yVBAPv7Vjul",
        "colab_type": "code",
        "outputId": "4f52d609-96e5-460b-8abc-09d550b4dcfa",
        "colab": {
          "base_uri": "https://localhost:8080/",
          "height": 34
        }
      },
      "source": [
        "s = 0\n",
        "k = 0\n",
        "for i in range(R.shape[0]):\n",
        "  for j in range(R.shape[1]):\n",
        "    if R.values[i][j] != 0:\n",
        "      k += 1\n",
        "      s += (new_ratings[i][j] - R.values[i][j]) ** 2\n",
        "print((s / k) ** .5)"
      ],
      "execution_count": 0,
      "outputs": [
        {
          "output_type": "stream",
          "text": [
            "3.2203191217624547\n"
          ],
          "name": "stdout"
        }
      ]
    },
    {
      "cell_type": "code",
      "metadata": {
        "id": "sGbvejzpV6JP",
        "colab_type": "code",
        "colab": {}
      },
      "source": [
        "new_ratings = pd.DataFrame(new_ratings, index=R.index, columns=R.columns)"
      ],
      "execution_count": 0,
      "outputs": []
    },
    {
      "cell_type": "code",
      "metadata": {
        "id": "RSmNuc8FV8hH",
        "colab_type": "code",
        "outputId": "2748c597-c70c-456a-9327-93191ab326a6",
        "colab": {
          "base_uri": "https://localhost:8080/",
          "height": 284
        }
      },
      "source": [
        "new_ratings.head()"
      ],
      "execution_count": 0,
      "outputs": [
        {
          "output_type": "execute_result",
          "data": {
            "text/html": [
              "<div>\n",
              "<style scoped>\n",
              "    .dataframe tbody tr th:only-of-type {\n",
              "        vertical-align: middle;\n",
              "    }\n",
              "\n",
              "    .dataframe tbody tr th {\n",
              "        vertical-align: top;\n",
              "    }\n",
              "\n",
              "    .dataframe thead th {\n",
              "        text-align: right;\n",
              "    }\n",
              "</style>\n",
              "<table border=\"1\" class=\"dataframe\">\n",
              "  <thead>\n",
              "    <tr style=\"text-align: right;\">\n",
              "      <th>book_id</th>\n",
              "      <th>2</th>\n",
              "      <th>3</th>\n",
              "      <th>4</th>\n",
              "      <th>5</th>\n",
              "      <th>7</th>\n",
              "      <th>8</th>\n",
              "      <th>9</th>\n",
              "      <th>10</th>\n",
              "      <th>11</th>\n",
              "      <th>13</th>\n",
              "      <th>14</th>\n",
              "      <th>15</th>\n",
              "      <th>18</th>\n",
              "      <th>19</th>\n",
              "      <th>21</th>\n",
              "      <th>22</th>\n",
              "      <th>23</th>\n",
              "      <th>24</th>\n",
              "      <th>25</th>\n",
              "      <th>26</th>\n",
              "      <th>27</th>\n",
              "      <th>28</th>\n",
              "      <th>29</th>\n",
              "      <th>32</th>\n",
              "      <th>33</th>\n",
              "      <th>35</th>\n",
              "      <th>36</th>\n",
              "      <th>37</th>\n",
              "      <th>38</th>\n",
              "      <th>39</th>\n",
              "      <th>40</th>\n",
              "      <th>41</th>\n",
              "      <th>42</th>\n",
              "      <th>43</th>\n",
              "      <th>44</th>\n",
              "      <th>45</th>\n",
              "      <th>46</th>\n",
              "      <th>47</th>\n",
              "      <th>48</th>\n",
              "      <th>49</th>\n",
              "      <th>...</th>\n",
              "      <th>9903</th>\n",
              "      <th>9905</th>\n",
              "      <th>9908</th>\n",
              "      <th>9910</th>\n",
              "      <th>9911</th>\n",
              "      <th>9919</th>\n",
              "      <th>9921</th>\n",
              "      <th>9922</th>\n",
              "      <th>9923</th>\n",
              "      <th>9924</th>\n",
              "      <th>9925</th>\n",
              "      <th>9927</th>\n",
              "      <th>9928</th>\n",
              "      <th>9934</th>\n",
              "      <th>9935</th>\n",
              "      <th>9936</th>\n",
              "      <th>9940</th>\n",
              "      <th>9946</th>\n",
              "      <th>9948</th>\n",
              "      <th>9960</th>\n",
              "      <th>9961</th>\n",
              "      <th>9962</th>\n",
              "      <th>9963</th>\n",
              "      <th>9966</th>\n",
              "      <th>9967</th>\n",
              "      <th>9972</th>\n",
              "      <th>9973</th>\n",
              "      <th>9974</th>\n",
              "      <th>9977</th>\n",
              "      <th>9978</th>\n",
              "      <th>9981</th>\n",
              "      <th>9984</th>\n",
              "      <th>9985</th>\n",
              "      <th>9988</th>\n",
              "      <th>9990</th>\n",
              "      <th>9991</th>\n",
              "      <th>9995</th>\n",
              "      <th>9997</th>\n",
              "      <th>9998</th>\n",
              "      <th>10000</th>\n",
              "    </tr>\n",
              "    <tr>\n",
              "      <th>user_id</th>\n",
              "      <th></th>\n",
              "      <th></th>\n",
              "      <th></th>\n",
              "      <th></th>\n",
              "      <th></th>\n",
              "      <th></th>\n",
              "      <th></th>\n",
              "      <th></th>\n",
              "      <th></th>\n",
              "      <th></th>\n",
              "      <th></th>\n",
              "      <th></th>\n",
              "      <th></th>\n",
              "      <th></th>\n",
              "      <th></th>\n",
              "      <th></th>\n",
              "      <th></th>\n",
              "      <th></th>\n",
              "      <th></th>\n",
              "      <th></th>\n",
              "      <th></th>\n",
              "      <th></th>\n",
              "      <th></th>\n",
              "      <th></th>\n",
              "      <th></th>\n",
              "      <th></th>\n",
              "      <th></th>\n",
              "      <th></th>\n",
              "      <th></th>\n",
              "      <th></th>\n",
              "      <th></th>\n",
              "      <th></th>\n",
              "      <th></th>\n",
              "      <th></th>\n",
              "      <th></th>\n",
              "      <th></th>\n",
              "      <th></th>\n",
              "      <th></th>\n",
              "      <th></th>\n",
              "      <th></th>\n",
              "      <th></th>\n",
              "      <th></th>\n",
              "      <th></th>\n",
              "      <th></th>\n",
              "      <th></th>\n",
              "      <th></th>\n",
              "      <th></th>\n",
              "      <th></th>\n",
              "      <th></th>\n",
              "      <th></th>\n",
              "      <th></th>\n",
              "      <th></th>\n",
              "      <th></th>\n",
              "      <th></th>\n",
              "      <th></th>\n",
              "      <th></th>\n",
              "      <th></th>\n",
              "      <th></th>\n",
              "      <th></th>\n",
              "      <th></th>\n",
              "      <th></th>\n",
              "      <th></th>\n",
              "      <th></th>\n",
              "      <th></th>\n",
              "      <th></th>\n",
              "      <th></th>\n",
              "      <th></th>\n",
              "      <th></th>\n",
              "      <th></th>\n",
              "      <th></th>\n",
              "      <th></th>\n",
              "      <th></th>\n",
              "      <th></th>\n",
              "      <th></th>\n",
              "      <th></th>\n",
              "      <th></th>\n",
              "      <th></th>\n",
              "      <th></th>\n",
              "      <th></th>\n",
              "      <th></th>\n",
              "      <th></th>\n",
              "    </tr>\n",
              "  </thead>\n",
              "  <tbody>\n",
              "    <tr>\n",
              "      <th>1</th>\n",
              "      <td>-0.118873</td>\n",
              "      <td>0.025950</td>\n",
              "      <td>0.043151</td>\n",
              "      <td>-0.010069</td>\n",
              "      <td>0.031581</td>\n",
              "      <td>-0.011228</td>\n",
              "      <td>-0.041136</td>\n",
              "      <td>-0.026962</td>\n",
              "      <td>0.044509</td>\n",
              "      <td>-0.005319</td>\n",
              "      <td>0.053111</td>\n",
              "      <td>0.080638</td>\n",
              "      <td>0.081706</td>\n",
              "      <td>-0.050763</td>\n",
              "      <td>0.028902</td>\n",
              "      <td>-0.060569</td>\n",
              "      <td>0.003920</td>\n",
              "      <td>0.003825</td>\n",
              "      <td>-0.053743</td>\n",
              "      <td>-0.020463</td>\n",
              "      <td>0.011935</td>\n",
              "      <td>-0.037425</td>\n",
              "      <td>-0.005986</td>\n",
              "      <td>0.002126</td>\n",
              "      <td>-0.010860</td>\n",
              "      <td>0.008972</td>\n",
              "      <td>0.041431</td>\n",
              "      <td>0.041986</td>\n",
              "      <td>0.004052</td>\n",
              "      <td>0.206344</td>\n",
              "      <td>-0.109591</td>\n",
              "      <td>0.081307</td>\n",
              "      <td>0.086869</td>\n",
              "      <td>-0.061023</td>\n",
              "      <td>0.065307</td>\n",
              "      <td>-0.017077</td>\n",
              "      <td>-0.080101</td>\n",
              "      <td>2.117745</td>\n",
              "      <td>-0.046517</td>\n",
              "      <td>-0.025589</td>\n",
              "      <td>...</td>\n",
              "      <td>0.004906</td>\n",
              "      <td>0.057404</td>\n",
              "      <td>-0.001746</td>\n",
              "      <td>-0.009045</td>\n",
              "      <td>0.000222</td>\n",
              "      <td>-0.041600</td>\n",
              "      <td>-0.022317</td>\n",
              "      <td>-0.015665</td>\n",
              "      <td>-0.009922</td>\n",
              "      <td>-0.011230</td>\n",
              "      <td>0.027193</td>\n",
              "      <td>-0.048825</td>\n",
              "      <td>0.015072</td>\n",
              "      <td>0.046339</td>\n",
              "      <td>-0.026612</td>\n",
              "      <td>0.056204</td>\n",
              "      <td>-0.016763</td>\n",
              "      <td>0.041929</td>\n",
              "      <td>0.050706</td>\n",
              "      <td>0.033693</td>\n",
              "      <td>-0.017055</td>\n",
              "      <td>0.050284</td>\n",
              "      <td>-0.010327</td>\n",
              "      <td>-0.178615</td>\n",
              "      <td>0.044974</td>\n",
              "      <td>-0.107510</td>\n",
              "      <td>-0.008402</td>\n",
              "      <td>-0.003888</td>\n",
              "      <td>0.008257</td>\n",
              "      <td>0.002403</td>\n",
              "      <td>0.031812</td>\n",
              "      <td>-0.039181</td>\n",
              "      <td>-0.017752</td>\n",
              "      <td>-0.009821</td>\n",
              "      <td>-0.021879</td>\n",
              "      <td>-0.139415</td>\n",
              "      <td>0.123521</td>\n",
              "      <td>-0.034000</td>\n",
              "      <td>-0.029261</td>\n",
              "      <td>0.024818</td>\n",
              "    </tr>\n",
              "    <tr>\n",
              "      <th>2</th>\n",
              "      <td>-0.175547</td>\n",
              "      <td>0.087012</td>\n",
              "      <td>0.029240</td>\n",
              "      <td>0.014883</td>\n",
              "      <td>0.066045</td>\n",
              "      <td>-0.005866</td>\n",
              "      <td>0.006834</td>\n",
              "      <td>-0.015018</td>\n",
              "      <td>-0.067761</td>\n",
              "      <td>0.017300</td>\n",
              "      <td>-0.054024</td>\n",
              "      <td>-0.067755</td>\n",
              "      <td>0.125785</td>\n",
              "      <td>0.063315</td>\n",
              "      <td>0.049511</td>\n",
              "      <td>-0.027222</td>\n",
              "      <td>0.032723</td>\n",
              "      <td>0.023453</td>\n",
              "      <td>-0.034734</td>\n",
              "      <td>4.018244</td>\n",
              "      <td>-0.065814</td>\n",
              "      <td>0.015061</td>\n",
              "      <td>0.068026</td>\n",
              "      <td>-0.106932</td>\n",
              "      <td>3.928893</td>\n",
              "      <td>-0.096206</td>\n",
              "      <td>-0.034047</td>\n",
              "      <td>0.004566</td>\n",
              "      <td>-0.001566</td>\n",
              "      <td>0.042330</td>\n",
              "      <td>0.150782</td>\n",
              "      <td>0.066057</td>\n",
              "      <td>-0.041849</td>\n",
              "      <td>0.008470</td>\n",
              "      <td>0.115561</td>\n",
              "      <td>-0.016542</td>\n",
              "      <td>0.087322</td>\n",
              "      <td>0.188391</td>\n",
              "      <td>0.080681</td>\n",
              "      <td>-0.086860</td>\n",
              "      <td>...</td>\n",
              "      <td>-0.003688</td>\n",
              "      <td>0.010270</td>\n",
              "      <td>-0.001627</td>\n",
              "      <td>-0.007368</td>\n",
              "      <td>-0.014420</td>\n",
              "      <td>0.018328</td>\n",
              "      <td>0.114133</td>\n",
              "      <td>-0.053209</td>\n",
              "      <td>-0.025296</td>\n",
              "      <td>0.052431</td>\n",
              "      <td>0.008503</td>\n",
              "      <td>-0.059896</td>\n",
              "      <td>0.006541</td>\n",
              "      <td>-0.041553</td>\n",
              "      <td>0.009742</td>\n",
              "      <td>0.027126</td>\n",
              "      <td>0.004777</td>\n",
              "      <td>-0.008061</td>\n",
              "      <td>0.012960</td>\n",
              "      <td>-0.011762</td>\n",
              "      <td>-0.108274</td>\n",
              "      <td>0.029513</td>\n",
              "      <td>0.116130</td>\n",
              "      <td>0.048297</td>\n",
              "      <td>0.005650</td>\n",
              "      <td>0.093807</td>\n",
              "      <td>-0.057495</td>\n",
              "      <td>-0.085689</td>\n",
              "      <td>0.085181</td>\n",
              "      <td>0.040174</td>\n",
              "      <td>0.024080</td>\n",
              "      <td>0.002140</td>\n",
              "      <td>0.018651</td>\n",
              "      <td>0.030585</td>\n",
              "      <td>0.017136</td>\n",
              "      <td>-0.013169</td>\n",
              "      <td>0.114477</td>\n",
              "      <td>-0.024318</td>\n",
              "      <td>-0.029602</td>\n",
              "      <td>0.039011</td>\n",
              "    </tr>\n",
              "    <tr>\n",
              "      <th>3</th>\n",
              "      <td>-0.076800</td>\n",
              "      <td>0.061750</td>\n",
              "      <td>2.906562</td>\n",
              "      <td>0.039505</td>\n",
              "      <td>0.045817</td>\n",
              "      <td>-0.056309</td>\n",
              "      <td>0.044602</td>\n",
              "      <td>-0.037060</td>\n",
              "      <td>0.025712</td>\n",
              "      <td>1.967249</td>\n",
              "      <td>0.040849</td>\n",
              "      <td>0.003103</td>\n",
              "      <td>0.007560</td>\n",
              "      <td>-0.061488</td>\n",
              "      <td>0.058079</td>\n",
              "      <td>-0.007734</td>\n",
              "      <td>0.059240</td>\n",
              "      <td>-0.013354</td>\n",
              "      <td>0.019889</td>\n",
              "      <td>0.001616</td>\n",
              "      <td>-0.056248</td>\n",
              "      <td>1.972587</td>\n",
              "      <td>-0.093446</td>\n",
              "      <td>0.059590</td>\n",
              "      <td>0.017130</td>\n",
              "      <td>0.033035</td>\n",
              "      <td>0.020413</td>\n",
              "      <td>0.111989</td>\n",
              "      <td>-0.095695</td>\n",
              "      <td>0.019467</td>\n",
              "      <td>-0.112582</td>\n",
              "      <td>-0.077757</td>\n",
              "      <td>-0.046618</td>\n",
              "      <td>0.037023</td>\n",
              "      <td>0.061838</td>\n",
              "      <td>-0.016999</td>\n",
              "      <td>0.096638</td>\n",
              "      <td>-0.010761</td>\n",
              "      <td>0.025964</td>\n",
              "      <td>-0.033686</td>\n",
              "      <td>...</td>\n",
              "      <td>0.004258</td>\n",
              "      <td>-0.045630</td>\n",
              "      <td>0.002772</td>\n",
              "      <td>0.053749</td>\n",
              "      <td>-0.014036</td>\n",
              "      <td>0.003877</td>\n",
              "      <td>0.058278</td>\n",
              "      <td>-0.024296</td>\n",
              "      <td>0.007487</td>\n",
              "      <td>-0.039226</td>\n",
              "      <td>-0.012258</td>\n",
              "      <td>0.151538</td>\n",
              "      <td>0.051731</td>\n",
              "      <td>0.023644</td>\n",
              "      <td>0.028916</td>\n",
              "      <td>-0.064602</td>\n",
              "      <td>-0.003579</td>\n",
              "      <td>0.214558</td>\n",
              "      <td>-0.005329</td>\n",
              "      <td>0.008117</td>\n",
              "      <td>0.055249</td>\n",
              "      <td>0.569331</td>\n",
              "      <td>-0.012862</td>\n",
              "      <td>0.667533</td>\n",
              "      <td>-0.046181</td>\n",
              "      <td>-0.090713</td>\n",
              "      <td>0.021581</td>\n",
              "      <td>-0.073170</td>\n",
              "      <td>0.117433</td>\n",
              "      <td>-0.019651</td>\n",
              "      <td>-0.143925</td>\n",
              "      <td>-0.019615</td>\n",
              "      <td>-0.011369</td>\n",
              "      <td>-0.032290</td>\n",
              "      <td>-0.057586</td>\n",
              "      <td>-0.100703</td>\n",
              "      <td>-0.013705</td>\n",
              "      <td>0.023373</td>\n",
              "      <td>-0.009029</td>\n",
              "      <td>0.071271</td>\n",
              "    </tr>\n",
              "    <tr>\n",
              "      <th>4</th>\n",
              "      <td>4.989835</td>\n",
              "      <td>-0.080632</td>\n",
              "      <td>3.957341</td>\n",
              "      <td>3.983841</td>\n",
              "      <td>-0.084418</td>\n",
              "      <td>4.008420</td>\n",
              "      <td>-0.070578</td>\n",
              "      <td>5.036412</td>\n",
              "      <td>3.998674</td>\n",
              "      <td>3.985042</td>\n",
              "      <td>0.043348</td>\n",
              "      <td>0.022940</td>\n",
              "      <td>4.951395</td>\n",
              "      <td>0.027393</td>\n",
              "      <td>5.056889</td>\n",
              "      <td>0.006804</td>\n",
              "      <td>5.039360</td>\n",
              "      <td>5.055656</td>\n",
              "      <td>-0.032870</td>\n",
              "      <td>3.003735</td>\n",
              "      <td>4.976314</td>\n",
              "      <td>3.020582</td>\n",
              "      <td>0.011472</td>\n",
              "      <td>4.012840</td>\n",
              "      <td>2.967699</td>\n",
              "      <td>4.992621</td>\n",
              "      <td>5.017365</td>\n",
              "      <td>-0.001561</td>\n",
              "      <td>-0.011050</td>\n",
              "      <td>-0.126270</td>\n",
              "      <td>-0.057724</td>\n",
              "      <td>0.071386</td>\n",
              "      <td>5.012523</td>\n",
              "      <td>0.030156</td>\n",
              "      <td>0.020588</td>\n",
              "      <td>4.009378</td>\n",
              "      <td>-0.055755</td>\n",
              "      <td>0.070100</td>\n",
              "      <td>4.022090</td>\n",
              "      <td>0.042386</td>\n",
              "      <td>...</td>\n",
              "      <td>-0.024348</td>\n",
              "      <td>-0.015035</td>\n",
              "      <td>-0.002892</td>\n",
              "      <td>0.012924</td>\n",
              "      <td>-0.046681</td>\n",
              "      <td>0.026094</td>\n",
              "      <td>-0.009179</td>\n",
              "      <td>-0.019047</td>\n",
              "      <td>-0.016411</td>\n",
              "      <td>0.007219</td>\n",
              "      <td>0.023828</td>\n",
              "      <td>0.026674</td>\n",
              "      <td>0.031789</td>\n",
              "      <td>0.005933</td>\n",
              "      <td>-0.006435</td>\n",
              "      <td>0.131692</td>\n",
              "      <td>0.009215</td>\n",
              "      <td>0.082259</td>\n",
              "      <td>-0.002659</td>\n",
              "      <td>-0.033524</td>\n",
              "      <td>-0.051693</td>\n",
              "      <td>-0.140710</td>\n",
              "      <td>0.018269</td>\n",
              "      <td>-0.071050</td>\n",
              "      <td>0.008105</td>\n",
              "      <td>0.061557</td>\n",
              "      <td>-0.064690</td>\n",
              "      <td>0.124756</td>\n",
              "      <td>-0.025569</td>\n",
              "      <td>-0.079722</td>\n",
              "      <td>0.037377</td>\n",
              "      <td>-0.020497</td>\n",
              "      <td>0.014343</td>\n",
              "      <td>-0.065983</td>\n",
              "      <td>0.013516</td>\n",
              "      <td>0.089898</td>\n",
              "      <td>0.016141</td>\n",
              "      <td>-0.015694</td>\n",
              "      <td>0.005196</td>\n",
              "      <td>0.045544</td>\n",
              "    </tr>\n",
              "    <tr>\n",
              "      <th>6</th>\n",
              "      <td>0.036115</td>\n",
              "      <td>0.001089</td>\n",
              "      <td>-0.020454</td>\n",
              "      <td>-0.000488</td>\n",
              "      <td>-0.020916</td>\n",
              "      <td>0.011715</td>\n",
              "      <td>0.009623</td>\n",
              "      <td>0.014306</td>\n",
              "      <td>0.000919</td>\n",
              "      <td>0.016817</td>\n",
              "      <td>0.009925</td>\n",
              "      <td>-0.015558</td>\n",
              "      <td>-0.007579</td>\n",
              "      <td>-0.006118</td>\n",
              "      <td>-0.007462</td>\n",
              "      <td>0.002051</td>\n",
              "      <td>-0.031581</td>\n",
              "      <td>0.002679</td>\n",
              "      <td>-0.010708</td>\n",
              "      <td>-0.011626</td>\n",
              "      <td>0.001460</td>\n",
              "      <td>-0.012542</td>\n",
              "      <td>-0.005462</td>\n",
              "      <td>0.014350</td>\n",
              "      <td>0.010758</td>\n",
              "      <td>0.023715</td>\n",
              "      <td>-0.000330</td>\n",
              "      <td>-0.008818</td>\n",
              "      <td>0.032917</td>\n",
              "      <td>0.009559</td>\n",
              "      <td>0.044787</td>\n",
              "      <td>0.003463</td>\n",
              "      <td>-0.000654</td>\n",
              "      <td>-0.020890</td>\n",
              "      <td>0.012820</td>\n",
              "      <td>-0.002698</td>\n",
              "      <td>-0.014307</td>\n",
              "      <td>0.021571</td>\n",
              "      <td>0.027381</td>\n",
              "      <td>0.007150</td>\n",
              "      <td>...</td>\n",
              "      <td>0.000566</td>\n",
              "      <td>0.006731</td>\n",
              "      <td>-0.000185</td>\n",
              "      <td>0.003986</td>\n",
              "      <td>-0.004597</td>\n",
              "      <td>0.009602</td>\n",
              "      <td>0.005820</td>\n",
              "      <td>-0.005316</td>\n",
              "      <td>-0.000943</td>\n",
              "      <td>-0.003389</td>\n",
              "      <td>0.005063</td>\n",
              "      <td>-0.018564</td>\n",
              "      <td>0.001125</td>\n",
              "      <td>-0.005891</td>\n",
              "      <td>-0.002671</td>\n",
              "      <td>-0.020682</td>\n",
              "      <td>0.000188</td>\n",
              "      <td>-0.007549</td>\n",
              "      <td>-0.008851</td>\n",
              "      <td>0.006833</td>\n",
              "      <td>0.003471</td>\n",
              "      <td>0.013363</td>\n",
              "      <td>-0.001029</td>\n",
              "      <td>-0.003316</td>\n",
              "      <td>-0.003707</td>\n",
              "      <td>-0.012899</td>\n",
              "      <td>0.000010</td>\n",
              "      <td>0.012263</td>\n",
              "      <td>-0.010182</td>\n",
              "      <td>0.017119</td>\n",
              "      <td>-0.000036</td>\n",
              "      <td>0.002029</td>\n",
              "      <td>0.006513</td>\n",
              "      <td>-0.013950</td>\n",
              "      <td>0.034105</td>\n",
              "      <td>-0.005535</td>\n",
              "      <td>0.013296</td>\n",
              "      <td>0.002710</td>\n",
              "      <td>0.001097</td>\n",
              "      <td>-0.012302</td>\n",
              "    </tr>\n",
              "  </tbody>\n",
              "</table>\n",
              "<p>5 rows × 5033 columns</p>\n",
              "</div>"
            ],
            "text/plain": [
              "book_id     2         3         4      ...     9997      9998      10000\n",
              "user_id                                ...                              \n",
              "1       -0.118873  0.025950  0.043151  ... -0.034000 -0.029261  0.024818\n",
              "2       -0.175547  0.087012  0.029240  ... -0.024318 -0.029602  0.039011\n",
              "3       -0.076800  0.061750  2.906562  ...  0.023373 -0.009029  0.071271\n",
              "4        4.989835 -0.080632  3.957341  ... -0.015694  0.005196  0.045544\n",
              "6        0.036115  0.001089 -0.020454  ...  0.002710  0.001097 -0.012302\n",
              "\n",
              "[5 rows x 5033 columns]"
            ]
          },
          "metadata": {
            "tags": []
          },
          "execution_count": 58
        }
      ]
    },
    {
      "cell_type": "code",
      "metadata": {
        "id": "r7F8oq7OuZNB",
        "colab_type": "code",
        "colab": {}
      },
      "source": [
        ""
      ],
      "execution_count": 0,
      "outputs": []
    }
  ]
}